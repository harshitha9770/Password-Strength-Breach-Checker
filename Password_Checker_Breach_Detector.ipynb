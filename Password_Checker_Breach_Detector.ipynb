{
  "nbformat": 4,
  "nbformat_minor": 0,
  "metadata": {
    "colab": {
      "provenance": []
    },
    "kernelspec": {
      "name": "python3",
      "display_name": "Python 3"
    },
    "language_info": {
      "name": "python"
    }
  },
  "cells": [
    {
      "cell_type": "code",
      "execution_count": 7,
      "metadata": {
        "colab": {
          "base_uri": "https://localhost:8080/"
        },
        "id": "3tmy9zEFREby",
        "outputId": "3e0adb4b-7b9a-4879-c972-ff2562c6146e"
      },
      "outputs": [
        {
          "output_type": "stream",
          "name": "stdout",
          "text": [
            "Enter your password: Asah@20045\n",
            "\n",
            "Password Strength Report:\n",
            "- Length ≥ 8: ✔️\n",
            "- Has lowercase: ✔️\n",
            "- Has uppercase: ✔️\n",
            "- Has digit: ✔️\n",
            "- Has special char: ✔️\n",
            "🔐 Strength: Strong Password\n"
          ]
        }
      ],
      "source": [
        "import re\n",
        "\n",
        "def check_password_strength(password):\n",
        "    length = len(password) >= 8\n",
        "    lowercase = re.search(r\"[a-z]\", password) is not None\n",
        "    uppercase = re.search(r\"[A-Z]\", password) is not None\n",
        "    digit = re.search(r\"[0-9]\", password) is not None\n",
        "    special = re.search(r\"[!@#$%^&*(),.?\\\":{}|<>]\", password) is not None\n",
        "\n",
        "    score = sum([length, lowercase, uppercase, digit, special])\n",
        "\n",
        "    print(\"\\nPassword Strength Report:\")\n",
        "    print(f\"- Length ≥ 8: {'✔️' if length else '❌'}\")\n",
        "    print(f\"- Has lowercase: {'✔️' if lowercase else '❌'}\")\n",
        "    print(f\"- Has uppercase: {'✔️' if uppercase else '❌'}\")\n",
        "    print(f\"- Has digit: {'✔️' if digit else '❌'}\")\n",
        "    print(f\"- Has special char: {'✔️' if special else '❌'}\")\n",
        "\n",
        "    if score == 5:\n",
        "        print(\"🔐 Strength: Strong Password\")\n",
        "    elif score >= 3:\n",
        "        print(\"⚠️ Strength: Medium Password\")\n",
        "    else:\n",
        "        print(\"❌ Strength: Weak Password\")\n",
        "\n",
        "# Example usage\n",
        "password = input(\"Enter your password: \")\n",
        "check_password_strength(password)\n"
      ]
    },
    {
      "cell_type": "code",
      "source": [],
      "metadata": {
        "id": "kgUsDVvpTDKj"
      },
      "execution_count": null,
      "outputs": []
    },
    {
      "cell_type": "code",
      "source": [
        "import hashlib\n",
        "import requests\n",
        "\n",
        "def check_data_breach(password):\n",
        "    # Convert password to SHA-1 hash\n",
        "    sha1_password = hashlib.sha1(password.encode('utf-8')).hexdigest().upper()\n",
        "    first5, tail = sha1_password[:5], sha1_password[5:]\n",
        "\n",
        "    # Query HaveIBeenPwned API\n",
        "    url = f\"https://api.pwnedpasswords.com/range/{first5}\"\n",
        "    res = requests.get(url)\n",
        "\n",
        "    if res.status_code != 200:\n",
        "        raise RuntimeError(\"Error fetching data from API\")\n",
        "\n",
        "    hashes = (line.split(':') for line in res.text.splitlines())\n",
        "    for h, count in hashes:\n",
        "        if h == tail:\n",
        "            print(f\"⚠️ This password has been found {count} times in data breaches.\")\n",
        "            return\n",
        "    print(\"✅ This password has NOT been found in any known data breaches.\")\n",
        "\n",
        "# Example usage:\n",
        "check_data_breach(password)\n"
      ],
      "metadata": {
        "colab": {
          "base_uri": "https://localhost:8080/"
        },
        "id": "zLURu6wfRxkm",
        "outputId": "9ce28d40-f4b8-4fd5-8a69-b52294dbef63"
      },
      "execution_count": 9,
      "outputs": [
        {
          "output_type": "stream",
          "name": "stdout",
          "text": [
            "✅ This password has NOT been found in any known data breaches.\n"
          ]
        }
      ]
    },
    {
      "cell_type": "code",
      "source": [
        "check_data_breach(\"Asah@20045\")\n"
      ],
      "metadata": {
        "colab": {
          "base_uri": "https://localhost:8080/"
        },
        "id": "Zo42QbAaT1Gn",
        "outputId": "dd1ad9c4-a166-4542-f974-df9c96fd6e23"
      },
      "execution_count": 10,
      "outputs": [
        {
          "output_type": "stream",
          "name": "stdout",
          "text": [
            "✅ This password has NOT been found in any known data breaches.\n"
          ]
        }
      ]
    }
  ]
}